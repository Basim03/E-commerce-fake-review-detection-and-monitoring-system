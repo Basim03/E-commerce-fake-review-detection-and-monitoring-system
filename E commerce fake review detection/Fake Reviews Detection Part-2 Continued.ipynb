{
 "cells": [
  {
   "cell_type": "code",
   "execution_count": 2,
   "id": "f1ddc23d",
   "metadata": {},
   "outputs": [],
   "source": [
    "import numpy as np\n",
    "import pandas as pd\n",
    "import seaborn as sns\n",
    "import matplotlib.pyplot as plt\n",
    "%matplotlib inline\n",
    "import warnings, string\n",
    "warnings.filterwarnings('ignore')\n",
    "from sklearn.model_selection import train_test_split, GridSearchCV\n",
    "from sklearn.metrics import classification_report, confusion_matrix, accuracy_score\n",
    "import nltk\n",
    "from nltk.corpus import stopwords\n",
    "from sklearn.feature_extraction.text import CountVectorizer, TfidfTransformer\n",
    "from sklearn.naive_bayes import MultinomialNB\n",
    "from sklearn.pipeline import Pipeline\n",
    "from sklearn.ensemble import RandomForestClassifier\n",
    "from sklearn.tree import DecisionTreeClassifier\n",
    "from sklearn.neighbors import KNeighborsClassifier\n",
    "from sklearn.svm import SVC\n",
    "from sklearn.linear_model import LogisticRegression"
   ]
  },
  {
   "cell_type": "code",
   "execution_count": 3,
   "id": "46e09e82",
   "metadata": {},
   "outputs": [
    {
     "data": {
      "text/html": [
       "<div>\n",
       "<style scoped>\n",
       "    .dataframe tbody tr th:only-of-type {\n",
       "        vertical-align: middle;\n",
       "    }\n",
       "\n",
       "    .dataframe tbody tr th {\n",
       "        vertical-align: top;\n",
       "    }\n",
       "\n",
       "    .dataframe thead th {\n",
       "        text-align: right;\n",
       "    }\n",
       "</style>\n",
       "<table border=\"1\" class=\"dataframe\">\n",
       "  <thead>\n",
       "    <tr style=\"text-align: right;\">\n",
       "      <th></th>\n",
       "      <th>Unnamed: 0</th>\n",
       "      <th>category</th>\n",
       "      <th>rating</th>\n",
       "      <th>label</th>\n",
       "      <th>text_</th>\n",
       "    </tr>\n",
       "  </thead>\n",
       "  <tbody>\n",
       "    <tr>\n",
       "      <th>0</th>\n",
       "      <td>0</td>\n",
       "      <td>Home_and_Kitchen_5</td>\n",
       "      <td>5.0</td>\n",
       "      <td>CG</td>\n",
       "      <td>love well made sturdi veri comfort love veri p...</td>\n",
       "    </tr>\n",
       "    <tr>\n",
       "      <th>1</th>\n",
       "      <td>1</td>\n",
       "      <td>Home_and_Kitchen_5</td>\n",
       "      <td>5.0</td>\n",
       "      <td>CG</td>\n",
       "      <td>love great upgrad origin v mine coupl year</td>\n",
       "    </tr>\n",
       "    <tr>\n",
       "      <th>2</th>\n",
       "      <td>2</td>\n",
       "      <td>Home_and_Kitchen_5</td>\n",
       "      <td>5.0</td>\n",
       "      <td>CG</td>\n",
       "      <td>thi pillow save back love look feel thi pillow</td>\n",
       "    </tr>\n",
       "    <tr>\n",
       "      <th>3</th>\n",
       "      <td>3</td>\n",
       "      <td>Home_and_Kitchen_5</td>\n",
       "      <td>1.0</td>\n",
       "      <td>CG</td>\n",
       "      <td>miss inform use great product price</td>\n",
       "    </tr>\n",
       "    <tr>\n",
       "      <th>4</th>\n",
       "      <td>4</td>\n",
       "      <td>Home_and_Kitchen_5</td>\n",
       "      <td>5.0</td>\n",
       "      <td>CG</td>\n",
       "      <td>veri nice set good qualiti set two month</td>\n",
       "    </tr>\n",
       "  </tbody>\n",
       "</table>\n",
       "</div>"
      ],
      "text/plain": [
       "   Unnamed: 0            category  rating label  \\\n",
       "0           0  Home_and_Kitchen_5     5.0    CG   \n",
       "1           1  Home_and_Kitchen_5     5.0    CG   \n",
       "2           2  Home_and_Kitchen_5     5.0    CG   \n",
       "3           3  Home_and_Kitchen_5     1.0    CG   \n",
       "4           4  Home_and_Kitchen_5     5.0    CG   \n",
       "\n",
       "                                               text_  \n",
       "0  love well made sturdi veri comfort love veri p...  \n",
       "1         love great upgrad origin v mine coupl year  \n",
       "2     thi pillow save back love look feel thi pillow  \n",
       "3                miss inform use great product price  \n",
       "4           veri nice set good qualiti set two month  "
      ]
     },
     "execution_count": 3,
     "metadata": {},
     "output_type": "execute_result"
    }
   ],
   "source": [
    "df = pd.read_csv('Preprocessed Fake Reviews Detection Dataset.csv')\n",
    "df.head()"
   ]
  },
  {
   "cell_type": "code",
   "execution_count": 4,
   "id": "ec807090",
   "metadata": {},
   "outputs": [],
   "source": [
    "df.drop('Unnamed: 0',axis=1,inplace=True)"
   ]
  },
  {
   "cell_type": "code",
   "execution_count": 5,
   "id": "210251cc",
   "metadata": {},
   "outputs": [
    {
     "data": {
      "text/html": [
       "<div>\n",
       "<style scoped>\n",
       "    .dataframe tbody tr th:only-of-type {\n",
       "        vertical-align: middle;\n",
       "    }\n",
       "\n",
       "    .dataframe tbody tr th {\n",
       "        vertical-align: top;\n",
       "    }\n",
       "\n",
       "    .dataframe thead th {\n",
       "        text-align: right;\n",
       "    }\n",
       "</style>\n",
       "<table border=\"1\" class=\"dataframe\">\n",
       "  <thead>\n",
       "    <tr style=\"text-align: right;\">\n",
       "      <th></th>\n",
       "      <th>category</th>\n",
       "      <th>rating</th>\n",
       "      <th>label</th>\n",
       "      <th>text_</th>\n",
       "    </tr>\n",
       "  </thead>\n",
       "  <tbody>\n",
       "    <tr>\n",
       "      <th>0</th>\n",
       "      <td>Home_and_Kitchen_5</td>\n",
       "      <td>5.0</td>\n",
       "      <td>CG</td>\n",
       "      <td>love well made sturdi veri comfort love veri p...</td>\n",
       "    </tr>\n",
       "    <tr>\n",
       "      <th>1</th>\n",
       "      <td>Home_and_Kitchen_5</td>\n",
       "      <td>5.0</td>\n",
       "      <td>CG</td>\n",
       "      <td>love great upgrad origin v mine coupl year</td>\n",
       "    </tr>\n",
       "    <tr>\n",
       "      <th>2</th>\n",
       "      <td>Home_and_Kitchen_5</td>\n",
       "      <td>5.0</td>\n",
       "      <td>CG</td>\n",
       "      <td>thi pillow save back love look feel thi pillow</td>\n",
       "    </tr>\n",
       "    <tr>\n",
       "      <th>3</th>\n",
       "      <td>Home_and_Kitchen_5</td>\n",
       "      <td>1.0</td>\n",
       "      <td>CG</td>\n",
       "      <td>miss inform use great product price</td>\n",
       "    </tr>\n",
       "    <tr>\n",
       "      <th>4</th>\n",
       "      <td>Home_and_Kitchen_5</td>\n",
       "      <td>5.0</td>\n",
       "      <td>CG</td>\n",
       "      <td>veri nice set good qualiti set two month</td>\n",
       "    </tr>\n",
       "  </tbody>\n",
       "</table>\n",
       "</div>"
      ],
      "text/plain": [
       "             category  rating label  \\\n",
       "0  Home_and_Kitchen_5     5.0    CG   \n",
       "1  Home_and_Kitchen_5     5.0    CG   \n",
       "2  Home_and_Kitchen_5     5.0    CG   \n",
       "3  Home_and_Kitchen_5     1.0    CG   \n",
       "4  Home_and_Kitchen_5     5.0    CG   \n",
       "\n",
       "                                               text_  \n",
       "0  love well made sturdi veri comfort love veri p...  \n",
       "1         love great upgrad origin v mine coupl year  \n",
       "2     thi pillow save back love look feel thi pillow  \n",
       "3                miss inform use great product price  \n",
       "4           veri nice set good qualiti set two month  "
      ]
     },
     "execution_count": 5,
     "metadata": {},
     "output_type": "execute_result"
    }
   ],
   "source": [
    "df.head()"
   ]
  },
  {
   "cell_type": "code",
   "execution_count": 5,
   "id": "a5763dfc",
   "metadata": {},
   "outputs": [],
   "source": [
    "df.dropna(inplace=True)"
   ]
  },
  {
   "cell_type": "code",
   "execution_count": 8,
   "id": "304aa467",
   "metadata": {},
   "outputs": [],
   "source": [
    "df['length'] = df['text_'].apply(len)"
   ]
  },
  {
   "cell_type": "code",
   "execution_count": 9,
   "id": "e0c47197",
   "metadata": {},
   "outputs": [
    {
     "name": "stdout",
     "output_type": "stream",
     "text": [
      "<class 'pandas.core.frame.DataFrame'>\n",
      "Index: 40431 entries, 0 to 40431\n",
      "Data columns (total 5 columns):\n",
      " #   Column    Non-Null Count  Dtype  \n",
      "---  ------    --------------  -----  \n",
      " 0   category  40431 non-null  object \n",
      " 1   rating    40431 non-null  float64\n",
      " 2   label     40431 non-null  object \n",
      " 3   text_     40431 non-null  object \n",
      " 4   length    40431 non-null  int64  \n",
      "dtypes: float64(1), int64(1), object(3)\n",
      "memory usage: 1.9+ MB\n"
     ]
    }
   ],
   "source": [
    "df.info()"
   ]
  },
  {
   "cell_type": "code",
   "execution_count": 10,
   "id": "6148dffc",
   "metadata": {},
   "outputs": [
    {
     "data": {
      "image/png": "[encoded data removed]",
      "text/plain": [
       "<Figure size 640x480 with 1 Axes>"
      ]
     },
     "metadata": {},
     "output_type": "display_data"
    }
   ],
   "source": [
    "plt.hist(df['length'],bins=50)\n",
    "plt.show()"
   ]
  },
  {
   "cell_type": "code",
   "execution_count": 11,
   "id": "78e8500d",
   "metadata": {},
   "outputs": [
    {
     "data": {
      "text/html": [
       "<div>\n",
       "<style scoped>\n",
       "    .dataframe tbody tr th:only-of-type {\n",
       "        vertical-align: middle;\n",
       "    }\n",
       "\n",
       "    .dataframe tbody tr th {\n",
       "        vertical-align: top;\n",
       "    }\n",
       "\n",
       "    .dataframe thead tr th {\n",
       "        text-align: left;\n",
       "    }\n",
       "\n",
       "    .dataframe thead tr:last-of-type th {\n",
       "        text-align: right;\n",
       "    }\n",
       "</style>\n",
       "<table border=\"1\" class=\"dataframe\">\n",
       "  <thead>\n",
       "    <tr>\n",
       "      <th></th>\n",
       "      <th colspan=\"8\" halign=\"left\">rating</th>\n",
       "      <th colspan=\"8\" halign=\"left\">length</th>\n",
       "    </tr>\n",
       "    <tr>\n",
       "      <th></th>\n",
       "      <th>count</th>\n",
       "      <th>mean</th>\n",
       "      <th>std</th>\n",
       "      <th>min</th>\n",
       "      <th>25%</th>\n",
       "      <th>50%</th>\n",
       "      <th>75%</th>\n",
       "      <th>max</th>\n",
       "      <th>count</th>\n",
       "      <th>mean</th>\n",
       "      <th>std</th>\n",
       "      <th>min</th>\n",
       "      <th>25%</th>\n",
       "      <th>50%</th>\n",
       "      <th>75%</th>\n",
       "      <th>max</th>\n",
       "    </tr>\n",
       "    <tr>\n",
       "      <th>label</th>\n",
       "      <th></th>\n",
       "      <th></th>\n",
       "      <th></th>\n",
       "      <th></th>\n",
       "      <th></th>\n",
       "      <th></th>\n",
       "      <th></th>\n",
       "      <th></th>\n",
       "      <th></th>\n",
       "      <th></th>\n",
       "      <th></th>\n",
       "      <th></th>\n",
       "      <th></th>\n",
       "      <th></th>\n",
       "      <th></th>\n",
       "      <th></th>\n",
       "    </tr>\n",
       "  </thead>\n",
       "  <tbody>\n",
       "    <tr>\n",
       "      <th>CG</th>\n",
       "      <td>20215.0</td>\n",
       "      <td>4.259906</td>\n",
       "      <td>1.141092</td>\n",
       "      <td>1.0</td>\n",
       "      <td>4.0</td>\n",
       "      <td>5.0</td>\n",
       "      <td>5.0</td>\n",
       "      <td>5.0</td>\n",
       "      <td>20215.0</td>\n",
       "      <td>168.694979</td>\n",
       "      <td>170.342446</td>\n",
       "      <td>9.0</td>\n",
       "      <td>55.0</td>\n",
       "      <td>97.0</td>\n",
       "      <td>209.0</td>\n",
       "      <td>1210.0</td>\n",
       "    </tr>\n",
       "    <tr>\n",
       "      <th>OR</th>\n",
       "      <td>20216.0</td>\n",
       "      <td>4.253265</td>\n",
       "      <td>1.147652</td>\n",
       "      <td>1.0</td>\n",
       "      <td>4.0</td>\n",
       "      <td>5.0</td>\n",
       "      <td>5.0</td>\n",
       "      <td>5.0</td>\n",
       "      <td>20216.0</td>\n",
       "      <td>231.687426</td>\n",
       "      <td>246.774716</td>\n",
       "      <td>8.0</td>\n",
       "      <td>72.0</td>\n",
       "      <td>130.0</td>\n",
       "      <td>288.0</td>\n",
       "      <td>2216.0</td>\n",
       "    </tr>\n",
       "  </tbody>\n",
       "</table>\n",
       "</div>"
      ],
      "text/plain": [
       "        rating                                                length  \\\n",
       "         count      mean       std  min  25%  50%  75%  max    count   \n",
       "label                                                                  \n",
       "CG     20215.0  4.259906  1.141092  1.0  4.0  5.0  5.0  5.0  20215.0   \n",
       "OR     20216.0  4.253265  1.147652  1.0  4.0  5.0  5.0  5.0  20216.0   \n",
       "\n",
       "                                                                \n",
       "             mean         std  min   25%    50%    75%     max  \n",
       "label                                                           \n",
       "CG     168.694979  170.342446  9.0  55.0   97.0  209.0  1210.0  \n",
       "OR     231.687426  246.774716  8.0  72.0  130.0  288.0  2216.0  "
      ]
     },
     "execution_count": 11,
     "metadata": {},
     "output_type": "execute_result"
    }
   ],
   "source": [
    "df.groupby('label').describe()"
   ]
  },
  {
   "cell_type": "code",
   "execution_count": 12,
   "id": "e466777e",
   "metadata": {},
   "outputs": [
    {
     "data": {
      "image/png": "[encoded data removed]",
      "text/plain": [
       "<Figure size 1200x500 with 2 Axes>"
      ]
     },
     "metadata": {},
     "output_type": "display_data"
    }
   ],
   "source": [
    "df.hist(column='length',by='label',bins=50,color='blue',figsize=(12,5))\n",
    "plt.show()"
   ]
  },
  {
   "cell_type": "markdown",
   "id": "092b8ad0",
   "metadata": {},
   "source": [
    "Let's extract the largest review..."
   ]
  },
  {
   "cell_type": "code",
   "execution_count": 13,
   "id": "7e20b02e",
   "metadata": {},
   "outputs": [
    {
     "data": {
      "text/plain": [
       "\"thought 'd purcha thi item also nbsp data-hook= '' product-link-link '' class= '' a-link-norm '' href= '' /kidco-door-knob-locks-clear-2-pack/dp/b0010cd2io/ref=cm_cr_arp_d_rvw_txt ie=utf8 '' kidco door knob lock clear pack /a nbsp nbsp data-hook= '' product-link-link '' class= '' a-link-norm '' href= '' /door-knob-lock/dp/b00238meqa/ref=cm_cr_arp_d_rvw_txt ie=utf8 '' door knob lock /a white color nbsp data-hook= '' product-link-link '' class= '' a-link-norm '' href= '' /kidco-door-knob-lock-colors-white/dp/b001j2wjf2/ref=cm_cr_arp_d_rvw_txt ie=utf8 '' kidco door knob lock color white /a nbsp nbsp data-hook= '' product-link-link '' class= '' a-link-norm '' href= '' /door-knob-lock-2-pack/dp/b00069bvgm/ref=cm_cr_arp_d_rvw_txt ie=utf8 '' door knob lock pack /a nbsp data-hook= '' product-link-link '' class= '' a-link-norm '' href= '' /secure-grip-clear-door-knob-covers-3-pack/dp/b00068xbxe/ref=cm_cr_arp_d_rvw_txt ie=utf8 '' secur grip clear door knob cover 3-pack /a nbsp compar two overal function well although ha coupl disadvantag overcom `` hacks. `` advantag easi put two halv togeth match tab slot ha hing cover lock unlik safeti 1st ha open onc assembl gener prevent child turn doorknob allow adult simultan press two `` lever '' side twist disadvantag child might abl separ two halv although thi item resist breakag safeti 1st cover `` hack '' use strong glue like nbsp data-hook= '' product-link-link '' class= '' a-link-norm '' href= '' /henkel-01-82196-loctite-2-gram-super-glue-gel/dp/b000albzgc/ref=cm_cr_arp_d_rvw_txt ie=utf8 '' henkel 01-82196 loctit 2-gram super glue gel /a tab keep cover intact much glue wo n't abl remov cover later disadvantag certain doorknob rubber-lik pad insid cover might grip knob tightli child abl open door onli moder effort `` hack '' appli small amount silicon lubric like nbsp data-hook= '' product-link-link '' class= '' a-link-norm '' href= '' /10141wd-11oz-3-in-1-pro-lubricant-silicone-spray-aerosol-can-ship-ground-only-orm-d/dp/b000bbycuc/ref=cm_cr_arp_d_rvw_txt ie=utf8 '' 10141wd 11oz 3-in-1 pro lubric silicon spray aerosol ship ground orm-d /a pad insid furthermor sinc pad thick side use swiss armi knife pare knife make pad thinner buy thi amazon\""
      ]
     },
     "execution_count": 13,
     "metadata": {},
     "output_type": "execute_result"
    }
   ],
   "source": [
    "df[df['label']=='OR'][['text_','length']].sort_values(by='length',ascending=False).head().iloc[0].text_"
   ]
  },
  {
   "cell_type": "code",
   "execution_count": 14,
   "id": "c9d5a480",
   "metadata": {},
   "outputs": [
    {
     "data": {
      "text/plain": [
       "count    40431.000000\n",
       "mean       200.191981\n",
       "std        214.355951\n",
       "min          8.000000\n",
       "25%         62.000000\n",
       "50%        113.000000\n",
       "75%        246.500000\n",
       "max       2216.000000\n",
       "Name: length, dtype: float64"
      ]
     },
     "execution_count": 14,
     "metadata": {},
     "output_type": "execute_result"
    }
   ],
   "source": [
    "df.length.describe()"
   ]
  },
  {
   "cell_type": "code",
   "execution_count": 12,
   "id": "81649454",
   "metadata": {},
   "outputs": [],
   "source": [
    "def text_process(review):\n",
    "    nopunc = [char for char in review if char not in string.punctuation]\n",
    "    nopunc = ''.join(nopunc)\n",
    "    return [word for word in nopunc.split() if word.lower() not in stopwords.words('english')]"
   ]
  },
  {
   "cell_type": "code",
   "execution_count": 16,
   "id": "d3fc209c",
   "metadata": {},
   "outputs": [
    {
     "data": {
      "text/html": [
       "<style>#sk-container-id-1 {color: black;}#sk-container-id-1 pre{padding: 0;}#sk-container-id-1 div.sk-toggleable {background-color: white;}#sk-container-id-1 label.sk-toggleable__label {cursor: pointer;display: block;width: 100%;margin-bottom: 0;padding: 0.3em;box-sizing: border-box;text-align: center;}#sk-container-id-1 label.sk-toggleable__label-arrow:before {content: \"▸\";float: left;margin-right: 0.25em;color: #696969;}#sk-container-id-1 label.sk-toggleable__label-arrow:hover:before {color: black;}#sk-container-id-1 div.sk-estimator:hover label.sk-toggleable__label-arrow:before {color: black;}#sk-container-id-1 div.sk-toggleable__content {max-height: 0;max-width: 0;overflow: hidden;text-align: left;background-color: #f0f8ff;}#sk-container-id-1 div.sk-toggleable__content pre {margin: 0.2em;color: black;border-radius: 0.25em;background-color: #f0f8ff;}#sk-container-id-1 input.sk-toggleable__control:checked~div.sk-toggleable__content {max-height: 200px;max-width: 100%;overflow: auto;}#sk-container-id-1 input.sk-toggleable__control:checked~label.sk-toggleable__label-arrow:before {content: \"▾\";}#sk-container-id-1 div.sk-estimator input.sk-toggleable__control:checked~label.sk-toggleable__label {background-color: #d4ebff;}#sk-container-id-1 div.sk-label input.sk-toggleable__control:checked~label.sk-toggleable__label {background-color: #d4ebff;}#sk-container-id-1 input.sk-hidden--visually {border: 0;clip: rect(1px 1px 1px 1px);clip: rect(1px, 1px, 1px, 1px);height: 1px;margin: -1px;overflow: hidden;padding: 0;position: absolute;width: 1px;}#sk-container-id-1 div.sk-estimator {font-family: monospace;background-color: #f0f8ff;border: 1px dotted black;border-radius: 0.25em;box-sizing: border-box;margin-bottom: 0.5em;}#sk-container-id-1 div.sk-estimator:hover {background-color: #d4ebff;}#sk-container-id-1 div.sk-parallel-item::after {content: \"\";width: 100%;border-bottom: 1px solid gray;flex-grow: 1;}#sk-container-id-1 div.sk-label:hover label.sk-toggleable__label {background-color: #d4ebff;}#sk-container-id-1 div.sk-serial::before {content: \"\";position: absolute;border-left: 1px solid gray;box-sizing: border-box;top: 0;bottom: 0;left: 50%;z-index: 0;}#sk-container-id-1 div.sk-serial {display: flex;flex-direction: column;align-items: center;background-color: white;padding-right: 0.2em;padding-left: 0.2em;position: relative;}#sk-container-id-1 div.sk-item {position: relative;z-index: 1;}#sk-container-id-1 div.sk-parallel {display: flex;align-items: stretch;justify-content: center;background-color: white;position: relative;}#sk-container-id-1 div.sk-item::before, #sk-container-id-1 div.sk-parallel-item::before {content: \"\";position: absolute;border-left: 1px solid gray;box-sizing: border-box;top: 0;bottom: 0;left: 50%;z-index: -1;}#sk-container-id-1 div.sk-parallel-item {display: flex;flex-direction: column;z-index: 1;position: relative;background-color: white;}#sk-container-id-1 div.sk-parallel-item:first-child::after {align-self: flex-end;width: 50%;}#sk-container-id-1 div.sk-parallel-item:last-child::after {align-self: flex-start;width: 50%;}#sk-container-id-1 div.sk-parallel-item:only-child::after {width: 0;}#sk-container-id-1 div.sk-dashed-wrapped {border: 1px dashed gray;margin: 0 0.4em 0.5em 0.4em;box-sizing: border-box;padding-bottom: 0.4em;background-color: white;}#sk-container-id-1 div.sk-label label {font-family: monospace;font-weight: bold;display: inline-block;line-height: 1.2em;}#sk-container-id-1 div.sk-label-container {text-align: center;}#sk-container-id-1 div.sk-container {/* jupyter's `normalize.less` sets `[hidden] { display: none; }` but bootstrap.min.css set `[hidden] { display: none !important; }` so we also need the `!important` here to be able to override the default hidden behavior on the sphinx rendered scikit-learn.org. See: https://github.com/scikit-learn/scikit-learn/issues/21755 */display: inline-block !important;position: relative;}#sk-container-id-1 div.sk-text-repr-fallback {display: none;}</style><div id=\"sk-container-id-1\" class=\"sk-top-container\"><div class=\"sk-text-repr-fallback\"><pre>CountVectorizer(analyzer=&lt;function text_process at 0x00000230F577C680&gt;)</pre><b>In a Jupyter environment, please rerun this cell to show the HTML representation or trust the notebook. <br />On GitHub, the HTML representation is unable to render, please try loading this page with nbviewer.org.</b></div><div class=\"sk-container\" hidden><div class=\"sk-item\"><div class=\"sk-estimator sk-toggleable\"><input class=\"sk-toggleable__control sk-hidden--visually\" id=\"sk-estimator-id-1\" type=\"checkbox\" checked><label for=\"sk-estimator-id-1\" class=\"sk-toggleable__label sk-toggleable__label-arrow\">CountVectorizer</label><div class=\"sk-toggleable__content\"><pre>CountVectorizer(analyzer=&lt;function text_process at 0x00000230F577C680&gt;)</pre></div></div></div></div></div>"
      ],
      "text/plain": [
       "CountVectorizer(analyzer=<function text_process at 0x00000230F577C680>)"
      ]
     },
     "execution_count": 16,
     "metadata": {},
     "output_type": "execute_result"
    }
   ],
   "source": [
    "bow_transformer = CountVectorizer(analyzer=text_process)\n",
    "bow_transformer"
   ]
  },
  {
   "cell_type": "code",
   "execution_count": 20,
   "id": "bdb678ef",
   "metadata": {},
   "outputs": [
    {
     "name": "stdout",
     "output_type": "stream",
     "text": [
      "Total Vocabulary: 34623\n"
     ]
    }
   ],
   "source": [
    "bow_transformer.fit(df['text_'])\n",
    "print(\"Total Vocabulary:\",len(bow_transformer.vocabulary_))"
   ]
  },
  {
   "cell_type": "code",
   "execution_count": 18,
   "id": "07e1d8e5",
   "metadata": {},
   "outputs": [
    {
     "data": {
      "text/plain": [
       "'miss inform use great product price'"
      ]
     },
     "execution_count": 18,
     "metadata": {},
     "output_type": "execute_result"
    }
   ],
   "source": [
    "review4 = df['text_'][3]\n",
    "review4"
   ]
  },
  {
   "cell_type": "code",
   "execution_count": 22,
   "id": "d6fdd2b0",
   "metadata": {},
   "outputs": [
    {
     "name": "stdout",
     "output_type": "stream",
     "text": [
      "  (0, 13702)\t1\n",
      "  (0, 15954)\t1\n",
      "  (0, 19966)\t1\n",
      "  (0, 23990)\t1\n",
      "  (0, 24118)\t1\n",
      "  (0, 32355)\t1\n",
      "(1, 34623)\n"
     ]
    }
   ],
   "source": [
    "bow_msg4 = bow_transformer.transform([review4])\n",
    "print(bow_msg4)\n",
    "print(bow_msg4.shape)"
   ]
  },
  {
   "cell_type": "markdown",
   "id": "61fa8d1a",
   "metadata": {},
   "source": [
    "There are 6 unique words in the 4th review."
   ]
  },
  {
   "cell_type": "code",
   "execution_count": 23,
   "id": "600e72bb",
   "metadata": {},
   "outputs": [
    {
     "name": "stdout",
     "output_type": "stream",
     "text": [
      "incorrig\n",
      "predatori\n"
     ]
    }
   ],
   "source": [
    "print(bow_transformer.get_feature_names_out()[15841])\n",
    "print(bow_transformer.get_feature_names_out()[23848])"
   ]
  },
  {
   "cell_type": "code",
   "execution_count": 24,
   "id": "b00e702c",
   "metadata": {},
   "outputs": [],
   "source": [
    "bow_reviews = bow_transformer.transform(df['text_'])"
   ]
  },
  {
   "cell_type": "code",
   "execution_count": 25,
   "id": "87b42dd1",
   "metadata": {},
   "outputs": [
    {
     "name": "stdout",
     "output_type": "stream",
     "text": [
      "Shape of Bag of Words Transformer for the entire reviews corpus: (40431, 34623)\n",
      "Amount of non zero values in the bag of words model: 1080151\n"
     ]
    }
   ],
   "source": [
    "print(\"Shape of Bag of Words Transformer for the entire reviews corpus:\",bow_reviews.shape)\n",
    "print(\"Amount of non zero values in the bag of words model:\",bow_reviews.nnz)"
   ]
  },
  {
   "cell_type": "code",
   "execution_count": 26,
   "id": "bb8dd9b7",
   "metadata": {},
   "outputs": [
    {
     "name": "stdout",
     "output_type": "stream",
     "text": [
      "Sparsity: 0.08\n"
     ]
    }
   ],
   "source": [
    "print(\"Sparsity:\",np.round((bow_reviews.nnz/(bow_reviews.shape[0]*bow_reviews.shape[1]))*100,2))"
   ]
  },
  {
   "cell_type": "code",
   "execution_count": 27,
   "id": "e9d84aa8",
   "metadata": {},
   "outputs": [
    {
     "name": "stdout",
     "output_type": "stream",
     "text": [
      "  (0, 13702)\t1\n",
      "  (0, 15954)\t1\n",
      "  (0, 19966)\t1\n",
      "  (0, 23990)\t1\n",
      "  (0, 24118)\t1\n",
      "  (0, 32355)\t1\n"
     ]
    }
   ],
   "source": [
    "tfidf_transformer = TfidfTransformer().fit(bow_reviews)\n",
    "tfidf_rev4 = tfidf_transformer.transform(bow_msg4)\n",
    "print(bow_msg4)"
   ]
  },
  {
   "cell_type": "code",
   "execution_count": 28,
   "id": "9dc5bf62",
   "metadata": {},
   "outputs": [
    {
     "name": "stdout",
     "output_type": "stream",
     "text": [
      "10.91422964906803\n",
      "2.821684385176731\n"
     ]
    }
   ],
   "source": [
    "print(tfidf_transformer.idf_[bow_transformer.vocabulary_['mango']])\n",
    "print(tfidf_transformer.idf_[bow_transformer.vocabulary_['book']])"
   ]
  },
  {
   "cell_type": "code",
   "execution_count": 29,
   "id": "144873ee",
   "metadata": {},
   "outputs": [
    {
     "name": "stdout",
     "output_type": "stream",
     "text": [
      "Shape: (40431, 34623)\n",
      "No. of Dimensions: 2\n"
     ]
    }
   ],
   "source": [
    "tfidf_reviews = tfidf_transformer.transform(bow_reviews)\n",
    "print(\"Shape:\",tfidf_reviews.shape)\n",
    "print(\"No. of Dimensions:\",tfidf_reviews.ndim)"
   ]
  },
  {
   "cell_type": "markdown",
   "id": "7a11fecb",
   "metadata": {},
   "source": [
    "## Creating training and testing data"
   ]
  },
  {
   "cell_type": "code",
   "execution_count": 30,
   "id": "501767f8",
   "metadata": {},
   "outputs": [],
   "source": [
    "review_train, review_test, label_train, label_test = train_test_split(df['text_'],df['label'],test_size=0.35)"
   ]
  },
  {
   "cell_type": "code",
   "execution_count": 31,
   "id": "a101112e",
   "metadata": {},
   "outputs": [
    {
     "data": {
      "text/plain": [
       "17593    great look compact knife give full access cut ...\n",
       "573      super nice perfect wine glass onli problem kin...\n",
       "33638    veri nice qualiti skirt granddaught love hard ...\n",
       "30640    thi wa favorit book read even thought u might ...\n",
       "35991    daughter ask thi set love also love music colo...\n",
       "                               ...                        \n",
       "4127                      thi fantast item hand feel great\n",
       "33203    son wa realli exciti thi toy littl bigger thought\n",
       "31780    primari plot line two main charact father daug...\n",
       "10589    veri nice qualiti averag plu mean r well worth...\n",
       "24978    enjoy thi version great companion ani bibl stu...\n",
       "Name: text_, Length: 14151, dtype: object"
      ]
     },
     "execution_count": 31,
     "metadata": {},
     "output_type": "execute_result"
    }
   ],
   "source": [
    "review_test"
   ]
  },
  {
   "cell_type": "code",
   "execution_count": 32,
   "id": "ca4043a3",
   "metadata": {},
   "outputs": [],
   "source": [
    "pipeline = Pipeline([\n",
    "    ('bow',CountVectorizer(analyzer=text_process)),\n",
    "    ('tfidf',TfidfTransformer()),\n",
    "    ('classifier',MultinomialNB())\n",
    "])"
   ]
  },
  {
   "cell_type": "markdown",
   "id": "549f1e01",
   "metadata": {},
   "source": [
    "## Training and testing Multinomial Naive Bayes Algorithm on the preprocessed data"
   ]
  },
  {
   "cell_type": "code",
   "execution_count": 11,
   "id": "dd5c82d6",
   "metadata": {},
   "outputs": [
    {
     "ename": "NameError",
     "evalue": "name 'text_process' is not defined",
     "output_type": "error",
     "traceback": [
      "\u001b[1;31m---------------------------------------------------------------------------\u001b[0m",
      "\u001b[1;31mNameError\u001b[0m                                 Traceback (most recent call last)",
      "\u001b[1;32mc:\\Users\\BASIM\\Desktop\\MP-2\\E commerce fake review detection\\Fake Reviews Detection Part-2 Continued.ipynb Cell 32\u001b[0m line \u001b[0;36m2\n\u001b[0;32m      <a href='vscode-notebook-cell:/c%3A/Users/BASIM/Desktop/MP-2/E%20commerce%20fake%20review%20detection/Fake%20Reviews%20Detection%20Part-2%20Continued.ipynb#X43sZmlsZQ%3D%3D?line=0'>1</a>\u001b[0m pipeline \u001b[39m=\u001b[39m Pipeline([\n\u001b[1;32m----> <a href='vscode-notebook-cell:/c%3A/Users/BASIM/Desktop/MP-2/E%20commerce%20fake%20review%20detection/Fake%20Reviews%20Detection%20Part-2%20Continued.ipynb#X43sZmlsZQ%3D%3D?line=1'>2</a>\u001b[0m     (\u001b[39m'\u001b[39m\u001b[39mbow\u001b[39m\u001b[39m'\u001b[39m,CountVectorizer(analyzer\u001b[39m=\u001b[39mtext_process)),\n\u001b[0;32m      <a href='vscode-notebook-cell:/c%3A/Users/BASIM/Desktop/MP-2/E%20commerce%20fake%20review%20detection/Fake%20Reviews%20Detection%20Part-2%20Continued.ipynb#X43sZmlsZQ%3D%3D?line=2'>3</a>\u001b[0m     (\u001b[39m'\u001b[39m\u001b[39mtfidf\u001b[39m\u001b[39m'\u001b[39m,TfidfTransformer()),\n\u001b[0;32m      <a href='vscode-notebook-cell:/c%3A/Users/BASIM/Desktop/MP-2/E%20commerce%20fake%20review%20detection/Fake%20Reviews%20Detection%20Part-2%20Continued.ipynb#X43sZmlsZQ%3D%3D?line=3'>4</a>\u001b[0m     (\u001b[39m'\u001b[39m\u001b[39mclassifier\u001b[39m\u001b[39m'\u001b[39m,MultinomialNB())\n\u001b[0;32m      <a href='vscode-notebook-cell:/c%3A/Users/BASIM/Desktop/MP-2/E%20commerce%20fake%20review%20detection/Fake%20Reviews%20Detection%20Part-2%20Continued.ipynb#X43sZmlsZQ%3D%3D?line=4'>5</a>\u001b[0m ])\n",
      "\u001b[1;31mNameError\u001b[0m: name 'text_process' is not defined"
     ]
    }
   ],
   "source": [
    "pipeline = Pipeline([\n",
    "    ('bow',CountVectorizer(analyzer=text_process)),\n",
    "    ('tfidf',TfidfTransformer()),\n",
    "    ('classifier',MultinomialNB())\n",
    "])"
   ]
  },
  {
   "cell_type": "code",
   "execution_count": null,
   "id": "f0353c6e",
   "metadata": {},
   "outputs": [],
   "source": [
    "\n",
    "pipeline.fit(review_train,label_train)"
   ]
  },
  {
   "cell_type": "code",
   "execution_count": null,
   "id": "5c5d2587",
   "metadata": {},
   "outputs": [],
   "source": [
    "predictions = pipeline.predict(review_test)\n",
    "predictions"
   ]
  },
  {
   "cell_type": "code",
   "execution_count": 48,
   "id": "fe9e4125",
   "metadata": {},
   "outputs": [
    {
     "data": {
      "text/plain": [
       "array(['OR'], dtype='<U2')"
      ]
     },
     "execution_count": 48,
     "metadata": {},
     "output_type": "execute_result"
    }
   ],
   "source": [
    "model.predict(['Does the job but thinner than a professional blender?  I will say that its a pretty good'])"
   ]
  },
  {
   "cell_type": "code",
   "execution_count": 5,
   "id": "a7e2ee76",
   "metadata": {},
   "outputs": [
    {
     "ename": "NameError",
     "evalue": "name 'pipeline' is not defined",
     "output_type": "error",
     "traceback": [
      "\u001b[1;31m---------------------------------------------------------------------------\u001b[0m",
      "\u001b[1;31mNameError\u001b[0m                                 Traceback (most recent call last)",
      "\u001b[1;32mc:\\Users\\BASIM\\Desktop\\MP-2\\E commerce fake review detection\\Fake Reviews Detection Part-2 Continued.ipynb Cell 36\u001b[0m line \u001b[0;36m5\n\u001b[0;32m      <a href='vscode-notebook-cell:/c%3A/Users/BASIM/Desktop/MP-2/E%20commerce%20fake%20review%20detection/Fake%20Reviews%20Detection%20Part-2%20Continued.ipynb#X50sZmlsZQ%3D%3D?line=2'>3</a>\u001b[0m \u001b[39m# Save the pipeline to a pickle file\u001b[39;00m\n\u001b[0;32m      <a href='vscode-notebook-cell:/c%3A/Users/BASIM/Desktop/MP-2/E%20commerce%20fake%20review%20detection/Fake%20Reviews%20Detection%20Part-2%20Continued.ipynb#X50sZmlsZQ%3D%3D?line=3'>4</a>\u001b[0m \u001b[39mwith\u001b[39;00m \u001b[39mopen\u001b[39m(\u001b[39m\"\u001b[39m\u001b[39mmodel.pkl\u001b[39m\u001b[39m\"\u001b[39m, \u001b[39m\"\u001b[39m\u001b[39mwb\u001b[39m\u001b[39m\"\u001b[39m) \u001b[39mas\u001b[39;00m f:\n\u001b[1;32m----> <a href='vscode-notebook-cell:/c%3A/Users/BASIM/Desktop/MP-2/E%20commerce%20fake%20review%20detection/Fake%20Reviews%20Detection%20Part-2%20Continued.ipynb#X50sZmlsZQ%3D%3D?line=4'>5</a>\u001b[0m     pickle\u001b[39m.\u001b[39mdump(pipeline, f)\n",
      "\u001b[1;31mNameError\u001b[0m: name 'pipeline' is not defined"
     ]
    }
   ],
   "source": [
    "import pickle\n",
    "\n",
    "# Save the pipeline to a pickle file\n",
    "with open(\"model.pkl\", \"wb\") as f:\n",
    "    pickle.dump(pipeline, f)\n"
   ]
  },
  {
   "cell_type": "code",
   "execution_count": 13,
   "id": "99ae0547",
   "metadata": {},
   "outputs": [],
   "source": [
    "import pickle\n",
    "\n",
    "# Load the pre-trained model from the model.pkl file\n",
    "with open('pipeline.pkl', 'rb') as file:\n",
    "    model = pickle.load(file)\n"
   ]
  },
  {
   "cell_type": "code",
   "execution_count": 16,
   "id": "aced27aa",
   "metadata": {},
   "outputs": [
    {
     "data": {
      "text/plain": [
       "array(['CG'], dtype='<U2')"
      ]
     },
     "execution_count": 16,
     "metadata": {},
     "output_type": "execute_result"
    }
   ],
   "source": [
    "\n",
    "# Use the pipeline to make predictions\n",
    "model.predict(['Prossersor is good but the ipad is good also addiction.Media player experience is outstanding'])\n"
   ]
  },
  {
   "cell_type": "code",
   "execution_count": 45,
   "id": "f921c833",
   "metadata": {},
   "outputs": [
    {
     "ename": "NameError",
     "evalue": "name 'label_test' is not defined",
     "output_type": "error",
     "traceback": [
      "\u001b[1;31m---------------------------------------------------------------------------\u001b[0m",
      "\u001b[1;31mNameError\u001b[0m                                 Traceback (most recent call last)",
      "\u001b[1;32mf:\\E commerce fake review detection\\Fake Reviews Detection Part-2 Continued.ipynb Cell 39\u001b[0m line \u001b[0;36m1\n\u001b[1;32m----> <a href='vscode-notebook-cell:/f%3A/E%20commerce%20fake%20review%20detection/Fake%20Reviews%20Detection%20Part-2%20Continued.ipynb#X52sZmlsZQ%3D%3D?line=0'>1</a>\u001b[0m \u001b[39mprint\u001b[39m(\u001b[39m'\u001b[39m\u001b[39mClassification Report:\u001b[39m\u001b[39m'\u001b[39m,classification_report(label_test,predictions))\n\u001b[0;32m      <a href='vscode-notebook-cell:/f%3A/E%20commerce%20fake%20review%20detection/Fake%20Reviews%20Detection%20Part-2%20Continued.ipynb#X52sZmlsZQ%3D%3D?line=1'>2</a>\u001b[0m \u001b[39mprint\u001b[39m(\u001b[39m'\u001b[39m\u001b[39mConfusion Matrix:\u001b[39m\u001b[39m'\u001b[39m,confusion_matrix(label_test,predictions))\n\u001b[0;32m      <a href='vscode-notebook-cell:/f%3A/E%20commerce%20fake%20review%20detection/Fake%20Reviews%20Detection%20Part-2%20Continued.ipynb#X52sZmlsZQ%3D%3D?line=2'>3</a>\u001b[0m \u001b[39mprint\u001b[39m(\u001b[39m'\u001b[39m\u001b[39mAccuracy Score:\u001b[39m\u001b[39m'\u001b[39m,accuracy_score(label_test,predictions))\n",
      "\u001b[1;31mNameError\u001b[0m: name 'label_test' is not defined"
     ]
    }
   ],
   "source": [
    "print('Classification Report:',classification_report(label_test,predictions))\n",
    "print('Confusion Matrix:',confusion_matrix(label_test,predictions))\n",
    "print('Accuracy Score:',accuracy_score(label_test,predictions))"
   ]
  },
  {
   "cell_type": "code",
   "execution_count": null,
   "id": "f9a1b893",
   "metadata": {},
   "outputs": [
    {
     "name": "stdout",
     "output_type": "stream",
     "text": [
      "Model Prediction Accuracy: 85.24%\n"
     ]
    }
   ],
   "source": [
    "print('Model Prediction Accuracy:',str(np.round(accuracy_score(label_test,predictions)*100,2)) + '%')"
   ]
  },
  {
   "cell_type": "code",
   "execution_count": null,
   "id": "ce7083df",
   "metadata": {},
   "outputs": [],
   "source": [
    "pipeline = Pipeline([\n",
    "    ('bow',CountVectorizer(analyzer=text_process)),\n",
    "    ('tfidf',TfidfTransformer()),\n",
    "    ('classifier',RandomForestClassifier())\n",
    "])"
   ]
  },
  {
   "cell_type": "code",
   "execution_count": null,
   "id": "7e5aad6e",
   "metadata": {},
   "outputs": [
    {
     "data": {
      "text/plain": [
       "Pipeline(steps=[('bow',\n",
       "                 CountVectorizer(analyzer=<function text_process at 0x0000021F7471D940>)),\n",
       "                ('tfidf', TfidfTransformer()),\n",
       "                ('classifier', RandomForestClassifier())])"
      ]
     },
     "execution_count": 32,
     "metadata": {},
     "output_type": "execute_result"
    }
   ],
   "source": [
    "pipeline.fit(review_train,label_train)"
   ]
  },
  {
   "cell_type": "code",
   "execution_count": null,
   "id": "0ab07e65",
   "metadata": {},
   "outputs": [
    {
     "data": {
      "text/plain": [
       "array(['CG', 'CG', 'CG', ..., 'CG', 'CG', 'OR'], dtype=object)"
      ]
     },
     "execution_count": 33,
     "metadata": {},
     "output_type": "execute_result"
    }
   ],
   "source": [
    "rfc_pred = pipeline.predict(review_test)\n",
    "rfc_pred"
   ]
  },
  {
   "cell_type": "code",
   "execution_count": null,
   "id": "68e19966",
   "metadata": {},
   "outputs": [
    {
     "name": "stdout",
     "output_type": "stream",
     "text": [
      "Classification Report:               precision    recall  f1-score   support\n",
      "\n",
      "          CG       0.80      0.89      0.84      7032\n",
      "          OR       0.88      0.78      0.83      7119\n",
      "\n",
      "    accuracy                           0.84     14151\n",
      "   macro avg       0.84      0.84      0.84     14151\n",
      "weighted avg       0.84      0.84      0.84     14151\n",
      "\n",
      "Confusion Matrix: [[6244  788]\n",
      " [1539 5580]]\n",
      "Accuracy Score: 0.835559324429369\n",
      "Model Prediction Accuracy: 83.56%\n"
     ]
    }
   ],
   "source": [
    "print('Classification Report:',classification_report(label_test,rfc_pred))\n",
    "print('Confusion Matrix:',confusion_matrix(label_test,rfc_pred))\n",
    "print('Accuracy Score:',accuracy_score(label_test,rfc_pred))\n",
    "print('Model Prediction Accuracy:',str(np.round(accuracy_score(label_test,rfc_pred)*100,2)) + '%')"
   ]
  },
  {
   "cell_type": "code",
   "execution_count": null,
   "id": "0c018b28",
   "metadata": {},
   "outputs": [],
   "source": [
    "pipeline = Pipeline([\n",
    "    ('bow',CountVectorizer(analyzer=text_process)),\n",
    "    ('tfidf',TfidfTransformer()),\n",
    "    ('classifier',DecisionTreeClassifier())\n",
    "])"
   ]
  },
  {
   "cell_type": "code",
   "execution_count": null,
   "id": "9e33916b",
   "metadata": {},
   "outputs": [
    {
     "data": {
      "text/plain": [
       "Pipeline(steps=[('bow',\n",
       "                 CountVectorizer(analyzer=<function text_process at 0x0000021F7471D940>)),\n",
       "                ('tfidf', TfidfTransformer()),\n",
       "                ('classifier', DecisionTreeClassifier())])"
      ]
     },
     "execution_count": 36,
     "metadata": {},
     "output_type": "execute_result"
    }
   ],
   "source": [
    "pipeline.fit(review_train,label_train)"
   ]
  },
  {
   "cell_type": "code",
   "execution_count": null,
   "id": "5e483f90",
   "metadata": {},
   "outputs": [
    {
     "data": {
      "text/plain": [
       "array(['OR', 'CG', 'CG', ..., 'OR', 'OR', 'CG'], dtype=object)"
      ]
     },
     "execution_count": 37,
     "metadata": {},
     "output_type": "execute_result"
    }
   ],
   "source": [
    "dtree_pred = pipeline.predict(review_test)\n",
    "dtree_pred"
   ]
  },
  {
   "cell_type": "code",
   "execution_count": null,
   "id": "c775e38e",
   "metadata": {},
   "outputs": [
    {
     "name": "stdout",
     "output_type": "stream",
     "text": [
      "Classification Report:               precision    recall  f1-score   support\n",
      "\n",
      "          CG       0.72      0.75      0.74      7032\n",
      "          OR       0.75      0.71      0.73      7119\n",
      "\n",
      "    accuracy                           0.73     14151\n",
      "   macro avg       0.73      0.73      0.73     14151\n",
      "weighted avg       0.73      0.73      0.73     14151\n",
      "\n",
      "Confusion Matrix: [[5305 1727]\n",
      " [2046 5073]]\n",
      "Accuracy Score: 0.7333757331637341\n",
      "Model Prediction Accuracy: 73.34%\n"
     ]
    }
   ],
   "source": [
    "print('Classification Report:',classification_report(label_test,dtree_pred))\n",
    "print('Confusion Matrix:',confusion_matrix(label_test,dtree_pred))\n",
    "print('Accuracy Score:',accuracy_score(label_test,dtree_pred))\n",
    "print('Model Prediction Accuracy:',str(np.round(accuracy_score(label_test,dtree_pred)*100,2)) + '%')"
   ]
  },
  {
   "cell_type": "code",
   "execution_count": null,
   "id": "d2e130f7",
   "metadata": {},
   "outputs": [],
   "source": [
    "pipeline = Pipeline([\n",
    "    ('bow',CountVectorizer(analyzer=text_process)),\n",
    "    ('tfidf',TfidfTransformer()),\n",
    "    ('classifier',KNeighborsClassifier(n_neighbors=2))\n",
    "])"
   ]
  },
  {
   "cell_type": "code",
   "execution_count": null,
   "id": "b014bfd6",
   "metadata": {},
   "outputs": [
    {
     "data": {
      "text/plain": [
       "Pipeline(steps=[('bow',\n",
       "                 CountVectorizer(analyzer=<function text_process at 0x0000021F7471D940>)),\n",
       "                ('tfidf', TfidfTransformer()),\n",
       "                ('classifier', KNeighborsClassifier(n_neighbors=2))])"
      ]
     },
     "execution_count": 41,
     "metadata": {},
     "output_type": "execute_result"
    }
   ],
   "source": [
    "pipeline.fit(review_train,label_train)"
   ]
  },
  {
   "cell_type": "code",
   "execution_count": null,
   "id": "af69506a",
   "metadata": {},
   "outputs": [
    {
     "data": {
      "text/plain": [
       "array(['CG', 'CG', 'CG', ..., 'OR', 'CG', 'CG'], dtype=object)"
      ]
     },
     "execution_count": 42,
     "metadata": {},
     "output_type": "execute_result"
    }
   ],
   "source": [
    "knn_pred = pipeline.predict(review_test)\n",
    "knn_pred"
   ]
  },
  {
   "cell_type": "code",
   "execution_count": null,
   "id": "f9d23318",
   "metadata": {},
   "outputs": [
    {
     "name": "stdout",
     "output_type": "stream",
     "text": [
      "Classification Report:               precision    recall  f1-score   support\n",
      "\n",
      "          CG       0.54      0.97      0.69      7032\n",
      "          OR       0.86      0.19      0.31      7119\n",
      "\n",
      "    accuracy                           0.58     14151\n",
      "   macro avg       0.70      0.58      0.50     14151\n",
      "weighted avg       0.70      0.58      0.50     14151\n",
      "\n",
      "Confusion Matrix: [[6818  214]\n",
      " [5777 1342]]\n",
      "Accuracy Score: 0.5766376934492262\n",
      "Model Prediction Accuracy: 57.66%\n"
     ]
    }
   ],
   "source": [
    "print('Classification Report:',classification_report(label_test,knn_pred))\n",
    "print('Confusion Matrix:',confusion_matrix(label_test,knn_pred))\n",
    "print('Accuracy Score:',accuracy_score(label_test,knn_pred))\n",
    "print('Model Prediction Accuracy:',str(np.round(accuracy_score(label_test,knn_pred)*100,2)) + '%')"
   ]
  },
  {
   "cell_type": "code",
   "execution_count": null,
   "id": "411b3693",
   "metadata": {},
   "outputs": [],
   "source": [
    "pipeline = Pipeline([\n",
    "    ('bow',CountVectorizer(analyzer=text_process)),\n",
    "    ('tfidf',TfidfTransformer()),\n",
    "    ('classifier',SVC())\n",
    "])"
   ]
  },
  {
   "cell_type": "code",
   "execution_count": null,
   "id": "d166fa0b",
   "metadata": {},
   "outputs": [
    {
     "data": {
      "text/plain": [
       "Pipeline(steps=[('bow',\n",
       "                 CountVectorizer(analyzer=<function text_process at 0x0000021F7471D940>)),\n",
       "                ('tfidf', TfidfTransformer()), ('classifier', SVC())])"
      ]
     },
     "execution_count": 45,
     "metadata": {},
     "output_type": "execute_result"
    }
   ],
   "source": [
    "pipeline.fit(review_train,label_train)"
   ]
  },
  {
   "cell_type": "code",
   "execution_count": null,
   "id": "6b1224c9",
   "metadata": {},
   "outputs": [
    {
     "data": {
      "text/plain": [
       "array(['CG', 'CG', 'CG', ..., 'OR', 'OR', 'OR'], dtype=object)"
      ]
     },
     "execution_count": 46,
     "metadata": {},
     "output_type": "execute_result"
    }
   ],
   "source": [
    "svc_pred = pipeline.predict(review_test)\n",
    "svc_pred"
   ]
  },
  {
   "cell_type": "code",
   "execution_count": null,
   "id": "fb5086a5",
   "metadata": {},
   "outputs": [
    {
     "name": "stdout",
     "output_type": "stream",
     "text": [
      "Classification Report:               precision    recall  f1-score   support\n",
      "\n",
      "          CG       0.89      0.87      0.88      7032\n",
      "          OR       0.87      0.89      0.88      7119\n",
      "\n",
      "    accuracy                           0.88     14151\n",
      "   macro avg       0.88      0.88      0.88     14151\n",
      "weighted avg       0.88      0.88      0.88     14151\n",
      "\n",
      "Confusion Matrix: [[6101  931]\n",
      " [ 752 6367]]\n",
      "Accuracy Score: 0.8810684757260971\n",
      "Model Prediction Accuracy: 88.11%\n"
     ]
    }
   ],
   "source": [
    "print('Classification Report:',classification_report(label_test,svc_pred))\n",
    "print('Confusion Matrix:',confusion_matrix(label_test,svc_pred))\n",
    "print('Accuracy Score:',accuracy_score(label_test,svc_pred))\n",
    "print('Model Prediction Accuracy:',str(np.round(accuracy_score(label_test,svc_pred)*100,2)) + '%')"
   ]
  },
  {
   "cell_type": "code",
   "execution_count": null,
   "id": "fe899074",
   "metadata": {},
   "outputs": [],
   "source": [
    "pipeline = Pipeline([\n",
    "    ('bow',CountVectorizer(analyzer=text_process)),\n",
    "    ('tfidf',TfidfTransformer()),\n",
    "    ('classifier',LogisticRegression())\n",
    "])"
   ]
  },
  {
   "cell_type": "code",
   "execution_count": 20,
   "id": "c0daa08e",
   "metadata": {},
   "outputs": [
    {
     "ename": "NameError",
     "evalue": "name 'review_train' is not defined",
     "output_type": "error",
     "traceback": [
      "\u001b[1;31m---------------------------------------------------------------------------\u001b[0m",
      "\u001b[1;31mNameError\u001b[0m                                 Traceback (most recent call last)",
      "\u001b[1;32mf:\\E commerce fake review detection\\Fake Reviews Detection Part-2 Continued.ipynb Cell 58\u001b[0m line \u001b[0;36m1\n\u001b[1;32m----> <a href='vscode-notebook-cell:/f%3A/E%20commerce%20fake%20review%20detection/Fake%20Reviews%20Detection%20Part-2%20Continued.ipynb#Y110sZmlsZQ%3D%3D?line=0'>1</a>\u001b[0m pipeline\u001b[39m.\u001b[39mfit(review_train,label_train)\n",
      "\u001b[1;31mNameError\u001b[0m: name 'review_train' is not defined"
     ]
    }
   ],
   "source": [
    "pipeline.fit(review_train,label_train)"
   ]
  },
  {
   "cell_type": "code",
   "execution_count": null,
   "id": "087b741a",
   "metadata": {},
   "outputs": [
    {
     "data": {
      "text/plain": [
       "array(['CG', 'CG', 'CG', ..., 'OR', 'OR', 'OR'], dtype=object)"
      ]
     },
     "execution_count": 50,
     "metadata": {},
     "output_type": "execute_result"
    }
   ],
   "source": [
    "lr_pred = pipeline.predict(review_test)\n",
    "lr_pred"
   ]
  },
  {
   "cell_type": "code",
   "execution_count": null,
   "id": "a992daa6",
   "metadata": {},
   "outputs": [
    {
     "name": "stdout",
     "output_type": "stream",
     "text": [
      "Classification Report:               precision    recall  f1-score   support\n",
      "\n",
      "          CG       0.86      0.85      0.86      7032\n",
      "          OR       0.86      0.87      0.86      7119\n",
      "\n",
      "    accuracy                           0.86     14151\n",
      "   macro avg       0.86      0.86      0.86     14151\n",
      "weighted avg       0.86      0.86      0.86     14151\n",
      "\n",
      "Confusion Matrix: [[5996 1036]\n",
      " [ 938 6181]]\n",
      "Accuracy Score: 0.8605045579817681\n",
      "Model Prediction Accuracy: 86.05%\n"
     ]
    }
   ],
   "source": [
    "print('Classification Report:',classification_report(label_test,lr_pred))\n",
    "print('Confusion Matrix:',confusion_matrix(label_test,lr_pred))\n",
    "print('Accuracy Score:',accuracy_score(label_test,lr_pred))\n",
    "print('Model Prediction Accuracy:',str(np.round(accuracy_score(label_test,lr_pred)*100,2)) + '%')"
   ]
  },
  {
   "cell_type": "markdown",
   "id": "d6e0caeb",
   "metadata": {},
   "source": [
    "# Conclusion"
   ]
  },
  {
   "cell_type": "code",
   "execution_count": null,
   "id": "d092c25e",
   "metadata": {},
   "outputs": [
    {
     "name": "stdout",
     "output_type": "stream",
     "text": [
      "Performance of various ML models:\n",
      "\n",
      "\n",
      "Logistic Regression Prediction Accuracy: 86.05%\n",
      "K Nearest Neighbors Prediction Accuracy: 57.66%\n",
      "Decision Tree Classifier Prediction Accuracy: 73.34%\n",
      "Random Forests Classifier Prediction Accuracy: 83.56%\n",
      "Support Vector Machines Prediction Accuracy: 88.11%\n",
      "Multinomial Naive Bayes Prediction Accuracy: 84.35%\n"
     ]
    }
   ],
   "source": [
    "print('Performance of various ML models:')\n",
    "print('\\n')\n",
    "print('Logistic Regression Prediction Accuracy:',str(np.round(accuracy_score(label_test,lr_pred)*100,2)) + '%')\n",
    "print('K Nearest Neighbors Prediction Accuracy:',str(np.round(accuracy_score(label_test,knn_pred)*100,2)) + '%')\n",
    "print('Decision Tree Classifier Prediction Accuracy:',str(np.round(accuracy_score(label_test,dtree_pred)*100,2)) + '%')\n",
    "print('Random Forests Classifier Prediction Accuracy:',str(np.round(accuracy_score(label_test,rfc_pred)*100,2)) + '%')\n",
    "print('Support Vector Machines Prediction Accuracy:',str(np.round(accuracy_score(label_test,svc_pred)*100,2)) + '%')\n",
    "print('Multinomial Naive Bayes Prediction Accuracy:',str(np.round(accuracy_score(label_test,predictions)*100,2)) + '%')"
   ]
  }
 ],
 "metadata": {
  "kernelspec": {
   "display_name": "Python 3 (ipykernel)",
   "language": "python",
   "name": "python3"
  },
  "language_info": {
   "codemirror_mode": {
    "name": "ipython",
    "version": 3
   },
   "file_extension": ".py",
   "mimetype": "text/x-python",
   "name": "python",
   "nbconvert_exporter": "python",
   "pygments_lexer": "ipython3",
   "version": "3.10.12"
  }
 },
 "nbformat": 4,
 "nbformat_minor": 5
}
